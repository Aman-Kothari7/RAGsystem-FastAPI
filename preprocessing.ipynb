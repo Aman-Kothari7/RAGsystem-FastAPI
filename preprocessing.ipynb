{
 "cells": [
  {
   "cell_type": "code",
   "execution_count": 5,
   "metadata": {},
   "outputs": [
    {
     "name": "stdout",
     "output_type": "stream",
     "text": [
      "                                                   title  \\\n",
      "0                       GOI Notification - 5.48 per cent   \n",
      "1                             Marginal Standing Facility   \n",
      "2      Tender for \"7.49 percent Government Stock, 201...   \n",
      "3      Foreign Exchange Management (Transfer or Issue...   \n",
      "4        Auction of Government of India Dated Securities   \n",
      "...                                                  ...   \n",
      "12245                                 RBI - Notification   \n",
      "12246  RRBs - Master Circular on Priority Sector Lending   \n",
      "12247                              PM Vishwakarma Scheme   \n",
      "12248  List of Terrorist individuals / organizations ...   \n",
      "12249  Auction for Sale (Re-issue ) of ‘7.35 per cent...   \n",
      "\n",
      "                                                    text  \n",
      "0      GOVERNMENT OF INDIA MINISTRY OF FINANCE (Depar...  \n",
      "1      RBI/2018-2019/161    FMOD.MAOG. No.131/01.18.0...  \n",
      "2       Annexure I   For office use only  Regn no.   ...  \n",
      "3      RESERVE BANK OF INDIA\\n          FOREIGN EXCHA...  \n",
      "4      Ref.No.IDMC. 4144 /08.02.30.01/2002-03 April 1...  \n",
      "...                                                  ...  \n",
      "12245  Ref.No.IDMD/3787/08.02.33/2006-07  April 20, 2...  \n",
      "12246  RBI/2014-15/82\\n      RPCD.CO.RRB.BC.No.5/03.0...  \n",
      "12247  RBI/2023-24/61      FIDD.CO.MSME.BC.No.10/06.0...  \n",
      "12248  RBI/2009-10/397\\n    UBD. BPD. (PCB).Cir. No.5...  \n",
      "12249  Government of India Ministry of Finance Depart...  \n",
      "\n",
      "[12250 rows x 2 columns]\n"
     ]
    }
   ],
   "source": [
    "from bs4 import BeautifulSoup\n",
    "import pandas as pd\n",
    "import os\n",
    "\n",
    "data = {'title': [], 'text': []}\n",
    "\n",
    "data_folder = \"/Users/amankothari/Downloads/toc_notifications_2023_1991/notification_1991_2023\"\n",
    "\n",
    "for file_name in os.listdir(data_folder):\n",
    "    if file_name.endswith(\".html\"):\n",
    "        file_path = os.path.join(data_folder, file_name)\n",
    "        with open(file_path, 'r', encoding='utf-8') as file:\n",
    "            soup = BeautifulSoup(file, 'html.parser')\n",
    "            \n",
    "            # Extract title \n",
    "            headers = soup.find_all('td', class_='tableheader')\n",
    "            if len(headers) > 1:\n",
    "                title = headers[1].get_text(strip=True)\n",
    "            else:\n",
    "                title = \"Notification Details\" \n",
    "            \n",
    "            # Extract text s\n",
    "            text = ' '.join([p.text for p in soup.find_all('p')])\n",
    "\n",
    "            data['title'].append(title)\n",
    "            data['text'].append(text)\n",
    "\n",
    "df = pd.DataFrame(data)\n",
    "\n",
    "print(df)\n"
   ]
  },
  {
   "cell_type": "code",
   "execution_count": 7,
   "metadata": {},
   "outputs": [
    {
     "data": {
      "text/html": [
       "<div>\n",
       "<style scoped>\n",
       "    .dataframe tbody tr th:only-of-type {\n",
       "        vertical-align: middle;\n",
       "    }\n",
       "\n",
       "    .dataframe tbody tr th {\n",
       "        vertical-align: top;\n",
       "    }\n",
       "\n",
       "    .dataframe thead th {\n",
       "        text-align: right;\n",
       "    }\n",
       "</style>\n",
       "<table border=\"1\" class=\"dataframe\">\n",
       "  <thead>\n",
       "    <tr style=\"text-align: right;\">\n",
       "      <th></th>\n",
       "      <th>title</th>\n",
       "      <th>text</th>\n",
       "    </tr>\n",
       "  </thead>\n",
       "  <tbody>\n",
       "    <tr>\n",
       "      <th>0</th>\n",
       "      <td>GOI Notification - 5.48 per cent</td>\n",
       "      <td>GOVERNMENT OF INDIA MINISTRY OF FINANCE (Depar...</td>\n",
       "    </tr>\n",
       "    <tr>\n",
       "      <th>1</th>\n",
       "      <td>Marginal Standing Facility</td>\n",
       "      <td>RBI/2018-2019/161    FMOD.MAOG. No.131/01.18.0...</td>\n",
       "    </tr>\n",
       "    <tr>\n",
       "      <th>2</th>\n",
       "      <td>Tender for \"7.49 percent Government Stock, 201...</td>\n",
       "      <td>Annexure I   For office use only  Regn no.   ...</td>\n",
       "    </tr>\n",
       "    <tr>\n",
       "      <th>3</th>\n",
       "      <td>Foreign Exchange Management (Transfer or Issue...</td>\n",
       "      <td>RESERVE BANK OF INDIA\\n          FOREIGN EXCHA...</td>\n",
       "    </tr>\n",
       "    <tr>\n",
       "      <th>4</th>\n",
       "      <td>Auction of Government of India Dated Securities</td>\n",
       "      <td>Ref.No.IDMC. 4144 /08.02.30.01/2002-03 April 1...</td>\n",
       "    </tr>\n",
       "  </tbody>\n",
       "</table>\n",
       "</div>"
      ],
      "text/plain": [
       "                                               title  \\\n",
       "0                   GOI Notification - 5.48 per cent   \n",
       "1                         Marginal Standing Facility   \n",
       "2  Tender for \"7.49 percent Government Stock, 201...   \n",
       "3  Foreign Exchange Management (Transfer or Issue...   \n",
       "4    Auction of Government of India Dated Securities   \n",
       "\n",
       "                                                text  \n",
       "0  GOVERNMENT OF INDIA MINISTRY OF FINANCE (Depar...  \n",
       "1  RBI/2018-2019/161    FMOD.MAOG. No.131/01.18.0...  \n",
       "2   Annexure I   For office use only  Regn no.   ...  \n",
       "3  RESERVE BANK OF INDIA\\n          FOREIGN EXCHA...  \n",
       "4  Ref.No.IDMC. 4144 /08.02.30.01/2002-03 April 1...  "
      ]
     },
     "execution_count": 7,
     "metadata": {},
     "output_type": "execute_result"
    }
   ],
   "source": [
    "df.head()"
   ]
  },
  {
   "cell_type": "code",
   "execution_count": 8,
   "metadata": {},
   "outputs": [],
   "source": [
    "df.rename(columns={'title': 'RBI Notification Title', 'text': 'RBI Notification Text'}, inplace=True)\n"
   ]
  },
  {
   "cell_type": "code",
   "execution_count": 18,
   "metadata": {},
   "outputs": [],
   "source": [
    "df_filtered = df[df['RBI Notification Title'] != 'Notification Details']"
   ]
  },
  {
   "cell_type": "code",
   "execution_count": 33,
   "metadata": {},
   "outputs": [],
   "source": [
    "df_small = df_filtered.iloc[:500].copy()"
   ]
  },
  {
   "cell_type": "code",
   "execution_count": 34,
   "metadata": {},
   "outputs": [],
   "source": [
    "df_small.to_csv('data/notifications_data_small.csv', index=False)"
   ]
  },
  {
   "cell_type": "code",
   "execution_count": 35,
   "metadata": {},
   "outputs": [
    {
     "name": "stderr",
     "output_type": "stream",
     "text": [
      "Parsing nodes: 100%|██████████| 1/1 [00:03<00:00,  3.54s/it]\n",
      "Generating embeddings: 100%|██████████| 1275/1275 [00:45<00:00, 27.94it/s]\n"
     ]
    }
   ],
   "source": [
    "# Testing with data; Indexing and initializing query engine with complete data and service context\n",
    "from llama_index.core import VectorStoreIndex, SimpleDirectoryReader, download_loader\n",
    "from llama_index.core import Settings\n",
    "\n",
    "from llama_index.llms.openai import OpenAI\n",
    "documents = SimpleDirectoryReader('data').load_data()\n",
    "Settings.llm = OpenAI(model=\"gpt-3.5-turbo\", temperature=0.1)\n",
    "Settings.chunk_size = 1024\n",
    "Settings.chunk_overlap = 20\n",
    "index = VectorStoreIndex.from_documents(documents, show_progress=True)\n",
    "query_engine_service_context = index.as_query_engine(llm=Settings.llm) "
   ]
  },
  {
   "cell_type": "code",
   "execution_count": 36,
   "metadata": {},
   "outputs": [
    {
     "name": "stdout",
     "output_type": "stream",
     "text": [
      "The data provided discusses various aspects related to the banking sector, including the disclosure of information by banks, operational procedures for old and incapacitated persons, surveys of business expectations, lead indicators of the services sector activity, and credit extended by scheduled commercial banks.\n"
     ]
    }
   ],
   "source": [
    "response = query_engine_service_context.query('What is this data about?')\n",
    "print(response)"
   ]
  },
  {
   "cell_type": "code",
   "execution_count": 37,
   "metadata": {},
   "outputs": [
    {
     "name": "stdout",
     "output_type": "stream",
     "text": [
      "The Marginal Standing Facility (MSF) rate has been adjusted to 6.25 per cent with immediate effect. All other terms and conditions of the extant MSF scheme will remain unchanged.\n"
     ]
    }
   ],
   "source": [
    "response = query_engine_service_context.query('Tell me about the Marginal Standing Facility')\n",
    "print(response)"
   ]
  },
  {
   "cell_type": "code",
   "execution_count": 41,
   "metadata": {},
   "outputs": [],
   "source": [
    "index.storage_context.persist()\n",
    "# creates storage folder, containing .json files\n",
    "# vector_store : embeddings computed for each chunk\n",
    "# docstore : different chunks from documents\n",
    "# index_store: hash address for different chunks, determines which embeddings belong to which chunk\n",
    "\n",
    "# uncomment following lines to use specific storage context:\n",
    "# from llama_index import StorageContext, load_index_from_storage\n",
    "\n",
    "# storage_context = StorageContext.from_defaults(persist_dir = './storage')\n",
    "# index = load_index_from_storage(storage_context=storage_context)"
   ]
  },
  {
   "cell_type": "code",
   "execution_count": 43,
   "metadata": {},
   "outputs": [],
   "source": [
    "#Providing prompt template and instruction to the model. Improving performance\n",
    "from llama_index.core import Prompt\n",
    "\n",
    "template = (\n",
    "    \"You are a RBI representative. We have provided context information below. \\n\"\n",
    "    \"---------------------\\n\"\n",
    "    \"{context_str}\"\n",
    "    \"\\n---------------------\\n\"\n",
    "    \"Given this information, please answer the question and provide detailed responses: {query_str}\\n\"\n",
    ")\n",
    "qa_template = Prompt(template)\n",
    "query_engine_service_context_prompt = index.as_query_engine(text_qa_template=qa_template)"
   ]
  },
  {
   "cell_type": "code",
   "execution_count": 44,
   "metadata": {},
   "outputs": [
    {
     "name": "stdout",
     "output_type": "stream",
     "text": [
      "The detection and impounding of counterfeit notes is a crucial process to prevent fake currency from circulating in the economy. The Reserve Bank of India (RBI) has issued guidelines and instructions to banks and financial institutions on how to detect and impound counterfeit notes effectively.\n",
      "\n",
      "According to the Master Circular on Detection and Impounding of Counterfeit Notes, counterfeit notes can be impounded by all branches of Public Sector Banks, Private Sector Banks, Foreign Banks, Co-operative Banks, Regional Rural Banks, Treasuries, Sub-Treasuries, and Reserve Bank Issue Offices.\n",
      "\n",
      "When a counterfeit note is detected, it should be stamped with a \"COUNTERFEIT BANKNOTE\" stamp and recorded in a register under authentication. An acknowledgement receipt should be issued to the tenderer, and the impounded note should be forwarded to the local police authorities for investigation by filing a First Information Report (FIR).\n",
      "\n",
      "Banks are also advised to ensure that banknotes in denominations of Rs. 100 and above are processed through machines conforming to RBI standards before re-circulating them. Failure to impound counterfeit notes detected at their end may result in penalties imposed by the RBI.\n",
      "\n",
      "Overall, the detection and impounding of counterfeit notes is a critical responsibility of banks and financial institutions to maintain the integrity of the currency and prevent counterfeit currency from entering circulation.\n"
     ]
    }
   ],
   "source": [
    "response = query_engine_service_context_prompt.query(\"Tell me about the detection and impounding of counterfeit notes\")\n",
    "print(response)"
   ]
  },
  {
   "cell_type": "code",
   "execution_count": null,
   "metadata": {},
   "outputs": [],
   "source": [
    "#Evaluting responses using GPT-4, working on error \n",
    "from llama_index.core.evaluation import FaithfulnessEvaluator\n",
    "\n",
    "# create llm\n",
    "llm_gpt4 = OpenAI(model=\"gpt-4\", temperature=0.0)\n",
    "\n",
    "# define evaluator\n",
    "evaluator = FaithfulnessEvaluator(llm=llm_gpt4)\n",
    "\n",
    "# query index\n",
    "query_engine_for_eval = index.as_query_engine()\n",
    "response = query_engine_for_eval.query(\n",
    "    \"Tell me about the detection and impounding of counterfeit notes\"\n",
    ")\n",
    "eval_result = evaluator.evaluate_response(response=response)\n",
    "print(str(eval_result.passing))"
   ]
  }
 ],
 "metadata": {
  "kernelspec": {
   "display_name": "Python 3",
   "language": "python",
   "name": "python3"
  },
  "language_info": {
   "codemirror_mode": {
    "name": "ipython",
    "version": 3
   },
   "file_extension": ".py",
   "mimetype": "text/x-python",
   "name": "python",
   "nbconvert_exporter": "python",
   "pygments_lexer": "ipython3",
   "version": "3.9.6"
  }
 },
 "nbformat": 4,
 "nbformat_minor": 2
}
